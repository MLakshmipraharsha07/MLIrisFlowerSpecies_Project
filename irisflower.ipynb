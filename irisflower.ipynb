{
  "nbformat": 4,
  "nbformat_minor": 0,
  "metadata": {
    "colab": {
      "name": "irisflower.ipynb",
      "provenance": []
    },
    "kernelspec": {
      "name": "python3",
      "display_name": "Python 3"
    },
    "language_info": {
      "name": "python"
    }
  },
  "cells": [
    {
      "cell_type": "markdown",
      "source": [
        "IMPORTING THE DEPENDENCIES\n"
      ],
      "metadata": {
        "id": "qyhIR_GyDUJ0"
      }
    },
    {
      "cell_type": "code",
      "execution_count": 2,
      "metadata": {
        "id": "zSswlh3KOJkw",
        "colab": {
          "resources": {
            "http://localhost:8080/nbextensions/google.colab/files.js": {
              "data": "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",
              "ok": true,
              "headers": [
                [
                  "content-type",
                  "application/javascript"
                ]
              ],
              "status": 200,
              "status_text": ""
            }
          },
          "base_uri": "https://localhost:8080/",
          "height": 74
        },
        "outputId": "205f9ae3-db37-41c3-cc2e-6d4abe72608c"
      },
      "outputs": [
        {
          "output_type": "display_data",
          "data": {
            "text/plain": [
              "<IPython.core.display.HTML object>"
            ],
            "text/html": [
              "\n",
              "     <input type=\"file\" id=\"files-ece5da93-381a-4045-b65e-9078e06be106\" name=\"files[]\" multiple disabled\n",
              "        style=\"border:none\" />\n",
              "     <output id=\"result-ece5da93-381a-4045-b65e-9078e06be106\">\n",
              "      Upload widget is only available when the cell has been executed in the\n",
              "      current browser session. Please rerun this cell to enable.\n",
              "      </output>\n",
              "      <script src=\"/nbextensions/google.colab/files.js\"></script> "
            ]
          },
          "metadata": {}
        },
        {
          "output_type": "stream",
          "name": "stdout",
          "text": [
            "Saving Iris.csv to Iris.csv\n"
          ]
        }
      ],
      "source": [
        "from google.colab import files\n",
        "uploaded = files.upload()\n",
        "import numpy as np\n",
        "import pandas as pd\n",
        "import seaborn as sns\n",
        "from sklearn.preprocessing import StandardScaler\n",
        "from sklearn.model_selection import train_test_split\n",
        "from sklearn.metrics import confusion_matrix\n",
        "from sklearn.neighbors import KNeighborsClassifier\n",
        "from sklearn import svm\n",
        "from sklearn.metrics import accuracy_score\n",
        "import io\n",
        "import matplotlib.pyplot as plot\n",
        "iris_dataset = pd.read_csv(io.BytesIO(uploaded['Iris.csv']))"
      ]
    },
    {
      "cell_type": "markdown",
      "source": [
        "DATA COLLECTION AND ANALYSIS\n"
      ],
      "metadata": {
        "id": "Il89dr0JrYts"
      }
    },
    {
      "cell_type": "code",
      "source": [
        "iris_dataset.head(10)"
      ],
      "metadata": {
        "colab": {
          "base_uri": "https://localhost:8080/",
          "height": 363
        },
        "id": "q0Nwx9h5ri0O",
        "outputId": "d691dfcf-5393-4d77-c8cf-c6fade1bd8c8"
      },
      "execution_count": 3,
      "outputs": [
        {
          "output_type": "execute_result",
          "data": {
            "text/plain": [
              "   Id  SepalLengthCm  SepalWidthCm  PetalLengthCm  PetalWidthCm      Species\n",
              "0   1            5.1           3.5            1.4           0.2  Iris-setosa\n",
              "1   2            4.9           3.0            1.4           0.2  Iris-setosa\n",
              "2   3            4.7           3.2            1.3           0.2  Iris-setosa\n",
              "3   4            4.6           3.1            1.5           0.2  Iris-setosa\n",
              "4   5            5.0           3.6            1.4           0.2  Iris-setosa\n",
              "5   6            5.4           3.9            1.7           0.4  Iris-setosa\n",
              "6   7            4.6           3.4            1.4           0.3  Iris-setosa\n",
              "7   8            5.0           3.4            1.5           0.2  Iris-setosa\n",
              "8   9            4.4           2.9            1.4           0.2  Iris-setosa\n",
              "9  10            4.9           3.1            1.5           0.1  Iris-setosa"
            ],
            "text/html": [
              "\n",
              "  <div id=\"df-108c61b5-be5e-4407-87fd-09bd384a978a\">\n",
              "    <div class=\"colab-df-container\">\n",
              "      <div>\n",
              "<style scoped>\n",
              "    .dataframe tbody tr th:only-of-type {\n",
              "        vertical-align: middle;\n",
              "    }\n",
              "\n",
              "    .dataframe tbody tr th {\n",
              "        vertical-align: top;\n",
              "    }\n",
              "\n",
              "    .dataframe thead th {\n",
              "        text-align: right;\n",
              "    }\n",
              "</style>\n",
              "<table border=\"1\" class=\"dataframe\">\n",
              "  <thead>\n",
              "    <tr style=\"text-align: right;\">\n",
              "      <th></th>\n",
              "      <th>Id</th>\n",
              "      <th>SepalLengthCm</th>\n",
              "      <th>SepalWidthCm</th>\n",
              "      <th>PetalLengthCm</th>\n",
              "      <th>PetalWidthCm</th>\n",
              "      <th>Species</th>\n",
              "    </tr>\n",
              "  </thead>\n",
              "  <tbody>\n",
              "    <tr>\n",
              "      <th>0</th>\n",
              "      <td>1</td>\n",
              "      <td>5.1</td>\n",
              "      <td>3.5</td>\n",
              "      <td>1.4</td>\n",
              "      <td>0.2</td>\n",
              "      <td>Iris-setosa</td>\n",
              "    </tr>\n",
              "    <tr>\n",
              "      <th>1</th>\n",
              "      <td>2</td>\n",
              "      <td>4.9</td>\n",
              "      <td>3.0</td>\n",
              "      <td>1.4</td>\n",
              "      <td>0.2</td>\n",
              "      <td>Iris-setosa</td>\n",
              "    </tr>\n",
              "    <tr>\n",
              "      <th>2</th>\n",
              "      <td>3</td>\n",
              "      <td>4.7</td>\n",
              "      <td>3.2</td>\n",
              "      <td>1.3</td>\n",
              "      <td>0.2</td>\n",
              "      <td>Iris-setosa</td>\n",
              "    </tr>\n",
              "    <tr>\n",
              "      <th>3</th>\n",
              "      <td>4</td>\n",
              "      <td>4.6</td>\n",
              "      <td>3.1</td>\n",
              "      <td>1.5</td>\n",
              "      <td>0.2</td>\n",
              "      <td>Iris-setosa</td>\n",
              "    </tr>\n",
              "    <tr>\n",
              "      <th>4</th>\n",
              "      <td>5</td>\n",
              "      <td>5.0</td>\n",
              "      <td>3.6</td>\n",
              "      <td>1.4</td>\n",
              "      <td>0.2</td>\n",
              "      <td>Iris-setosa</td>\n",
              "    </tr>\n",
              "    <tr>\n",
              "      <th>5</th>\n",
              "      <td>6</td>\n",
              "      <td>5.4</td>\n",
              "      <td>3.9</td>\n",
              "      <td>1.7</td>\n",
              "      <td>0.4</td>\n",
              "      <td>Iris-setosa</td>\n",
              "    </tr>\n",
              "    <tr>\n",
              "      <th>6</th>\n",
              "      <td>7</td>\n",
              "      <td>4.6</td>\n",
              "      <td>3.4</td>\n",
              "      <td>1.4</td>\n",
              "      <td>0.3</td>\n",
              "      <td>Iris-setosa</td>\n",
              "    </tr>\n",
              "    <tr>\n",
              "      <th>7</th>\n",
              "      <td>8</td>\n",
              "      <td>5.0</td>\n",
              "      <td>3.4</td>\n",
              "      <td>1.5</td>\n",
              "      <td>0.2</td>\n",
              "      <td>Iris-setosa</td>\n",
              "    </tr>\n",
              "    <tr>\n",
              "      <th>8</th>\n",
              "      <td>9</td>\n",
              "      <td>4.4</td>\n",
              "      <td>2.9</td>\n",
              "      <td>1.4</td>\n",
              "      <td>0.2</td>\n",
              "      <td>Iris-setosa</td>\n",
              "    </tr>\n",
              "    <tr>\n",
              "      <th>9</th>\n",
              "      <td>10</td>\n",
              "      <td>4.9</td>\n",
              "      <td>3.1</td>\n",
              "      <td>1.5</td>\n",
              "      <td>0.1</td>\n",
              "      <td>Iris-setosa</td>\n",
              "    </tr>\n",
              "  </tbody>\n",
              "</table>\n",
              "</div>\n",
              "      <button class=\"colab-df-convert\" onclick=\"convertToInteractive('df-108c61b5-be5e-4407-87fd-09bd384a978a')\"\n",
              "              title=\"Convert this dataframe to an interactive table.\"\n",
              "              style=\"display:none;\">\n",
              "        \n",
              "  <svg xmlns=\"http://www.w3.org/2000/svg\" height=\"24px\"viewBox=\"0 0 24 24\"\n",
              "       width=\"24px\">\n",
              "    <path d=\"M0 0h24v24H0V0z\" fill=\"none\"/>\n",
              "    <path d=\"M18.56 5.44l.94 2.06.94-2.06 2.06-.94-2.06-.94-.94-2.06-.94 2.06-2.06.94zm-11 1L8.5 8.5l.94-2.06 2.06-.94-2.06-.94L8.5 2.5l-.94 2.06-2.06.94zm10 10l.94 2.06.94-2.06 2.06-.94-2.06-.94-.94-2.06-.94 2.06-2.06.94z\"/><path d=\"M17.41 7.96l-1.37-1.37c-.4-.4-.92-.59-1.43-.59-.52 0-1.04.2-1.43.59L10.3 9.45l-7.72 7.72c-.78.78-.78 2.05 0 2.83L4 21.41c.39.39.9.59 1.41.59.51 0 1.02-.2 1.41-.59l7.78-7.78 2.81-2.81c.8-.78.8-2.07 0-2.86zM5.41 20L4 18.59l7.72-7.72 1.47 1.35L5.41 20z\"/>\n",
              "  </svg>\n",
              "      </button>\n",
              "      \n",
              "  <style>\n",
              "    .colab-df-container {\n",
              "      display:flex;\n",
              "      flex-wrap:wrap;\n",
              "      gap: 12px;\n",
              "    }\n",
              "\n",
              "    .colab-df-convert {\n",
              "      background-color: #E8F0FE;\n",
              "      border: none;\n",
              "      border-radius: 50%;\n",
              "      cursor: pointer;\n",
              "      display: none;\n",
              "      fill: #1967D2;\n",
              "      height: 32px;\n",
              "      padding: 0 0 0 0;\n",
              "      width: 32px;\n",
              "    }\n",
              "\n",
              "    .colab-df-convert:hover {\n",
              "      background-color: #E2EBFA;\n",
              "      box-shadow: 0px 1px 2px rgba(60, 64, 67, 0.3), 0px 1px 3px 1px rgba(60, 64, 67, 0.15);\n",
              "      fill: #174EA6;\n",
              "    }\n",
              "\n",
              "    [theme=dark] .colab-df-convert {\n",
              "      background-color: #3B4455;\n",
              "      fill: #D2E3FC;\n",
              "    }\n",
              "\n",
              "    [theme=dark] .colab-df-convert:hover {\n",
              "      background-color: #434B5C;\n",
              "      box-shadow: 0px 1px 3px 1px rgba(0, 0, 0, 0.15);\n",
              "      filter: drop-shadow(0px 1px 2px rgba(0, 0, 0, 0.3));\n",
              "      fill: #FFFFFF;\n",
              "    }\n",
              "  </style>\n",
              "\n",
              "      <script>\n",
              "        const buttonEl =\n",
              "          document.querySelector('#df-108c61b5-be5e-4407-87fd-09bd384a978a button.colab-df-convert');\n",
              "        buttonEl.style.display =\n",
              "          google.colab.kernel.accessAllowed ? 'block' : 'none';\n",
              "\n",
              "        async function convertToInteractive(key) {\n",
              "          const element = document.querySelector('#df-108c61b5-be5e-4407-87fd-09bd384a978a');\n",
              "          const dataTable =\n",
              "            await google.colab.kernel.invokeFunction('convertToInteractive',\n",
              "                                                     [key], {});\n",
              "          if (!dataTable) return;\n",
              "\n",
              "          const docLinkHtml = 'Like what you see? Visit the ' +\n",
              "            '<a target=\"_blank\" href=https://colab.research.google.com/notebooks/data_table.ipynb>data table notebook</a>'\n",
              "            + ' to learn more about interactive tables.';\n",
              "          element.innerHTML = '';\n",
              "          dataTable['output_type'] = 'display_data';\n",
              "          await google.colab.output.renderOutput(dataTable, element);\n",
              "          const docLink = document.createElement('div');\n",
              "          docLink.innerHTML = docLinkHtml;\n",
              "          element.appendChild(docLink);\n",
              "        }\n",
              "      </script>\n",
              "    </div>\n",
              "  </div>\n",
              "  "
            ]
          },
          "metadata": {},
          "execution_count": 3
        }
      ]
    },
    {
      "cell_type": "code",
      "source": [
        "iris_dataset['Species'].value_counts()"
      ],
      "metadata": {
        "colab": {
          "base_uri": "https://localhost:8080/"
        },
        "id": "t0OLs49_rz-M",
        "outputId": "72c6397e-751d-493f-d288-6e40451a6f8a"
      },
      "execution_count": 4,
      "outputs": [
        {
          "output_type": "execute_result",
          "data": {
            "text/plain": [
              "Iris-setosa        50\n",
              "Iris-versicolor    50\n",
              "Iris-virginica     50\n",
              "Name: Species, dtype: int64"
            ]
          },
          "metadata": {},
          "execution_count": 4
        }
      ]
    },
    {
      "cell_type": "code",
      "source": [
        "iris_dataset.shape"
      ],
      "metadata": {
        "colab": {
          "base_uri": "https://localhost:8080/"
        },
        "id": "4Vnel3x9r7hR",
        "outputId": "5f519811-47eb-41f2-9179-3238f3b4c6f3"
      },
      "execution_count": 5,
      "outputs": [
        {
          "output_type": "execute_result",
          "data": {
            "text/plain": [
              "(150, 6)"
            ]
          },
          "metadata": {},
          "execution_count": 5
        }
      ]
    },
    {
      "cell_type": "code",
      "source": [
        "iris_dataset.size"
      ],
      "metadata": {
        "colab": {
          "base_uri": "https://localhost:8080/"
        },
        "id": "7T_o5i6gr--e",
        "outputId": "10ebba2d-15f0-498d-994d-8f1d13b1d113"
      },
      "execution_count": 6,
      "outputs": [
        {
          "output_type": "execute_result",
          "data": {
            "text/plain": [
              "900"
            ]
          },
          "metadata": {},
          "execution_count": 6
        }
      ]
    },
    {
      "cell_type": "code",
      "source": [
        "iris_dataset.ndim"
      ],
      "metadata": {
        "colab": {
          "base_uri": "https://localhost:8080/"
        },
        "id": "Q8GQYNUBsByz",
        "outputId": "e38d57b5-0348-48be-8227-bd9ede8c0a5f"
      },
      "execution_count": 7,
      "outputs": [
        {
          "output_type": "execute_result",
          "data": {
            "text/plain": [
              "2"
            ]
          },
          "metadata": {},
          "execution_count": 7
        }
      ]
    },
    {
      "cell_type": "code",
      "source": [
        "#getting the statistical measures of the data\n",
        "iris_dataset.describe()"
      ],
      "metadata": {
        "colab": {
          "base_uri": "https://localhost:8080/",
          "height": 300
        },
        "id": "MB0NAP2ksELI",
        "outputId": "fd56b2d6-adad-4272-9d9b-080d7c20a54c"
      },
      "execution_count": 8,
      "outputs": [
        {
          "output_type": "execute_result",
          "data": {
            "text/plain": [
              "               Id  SepalLengthCm  SepalWidthCm  PetalLengthCm  PetalWidthCm\n",
              "count  150.000000     150.000000    150.000000     150.000000    150.000000\n",
              "mean    75.500000       5.843333      3.054000       3.758667      1.198667\n",
              "std     43.445368       0.828066      0.433594       1.764420      0.763161\n",
              "min      1.000000       4.300000      2.000000       1.000000      0.100000\n",
              "25%     38.250000       5.100000      2.800000       1.600000      0.300000\n",
              "50%     75.500000       5.800000      3.000000       4.350000      1.300000\n",
              "75%    112.750000       6.400000      3.300000       5.100000      1.800000\n",
              "max    150.000000       7.900000      4.400000       6.900000      2.500000"
            ],
            "text/html": [
              "\n",
              "  <div id=\"df-54d33eac-f73c-48ad-8785-1f4c5b72c57c\">\n",
              "    <div class=\"colab-df-container\">\n",
              "      <div>\n",
              "<style scoped>\n",
              "    .dataframe tbody tr th:only-of-type {\n",
              "        vertical-align: middle;\n",
              "    }\n",
              "\n",
              "    .dataframe tbody tr th {\n",
              "        vertical-align: top;\n",
              "    }\n",
              "\n",
              "    .dataframe thead th {\n",
              "        text-align: right;\n",
              "    }\n",
              "</style>\n",
              "<table border=\"1\" class=\"dataframe\">\n",
              "  <thead>\n",
              "    <tr style=\"text-align: right;\">\n",
              "      <th></th>\n",
              "      <th>Id</th>\n",
              "      <th>SepalLengthCm</th>\n",
              "      <th>SepalWidthCm</th>\n",
              "      <th>PetalLengthCm</th>\n",
              "      <th>PetalWidthCm</th>\n",
              "    </tr>\n",
              "  </thead>\n",
              "  <tbody>\n",
              "    <tr>\n",
              "      <th>count</th>\n",
              "      <td>150.000000</td>\n",
              "      <td>150.000000</td>\n",
              "      <td>150.000000</td>\n",
              "      <td>150.000000</td>\n",
              "      <td>150.000000</td>\n",
              "    </tr>\n",
              "    <tr>\n",
              "      <th>mean</th>\n",
              "      <td>75.500000</td>\n",
              "      <td>5.843333</td>\n",
              "      <td>3.054000</td>\n",
              "      <td>3.758667</td>\n",
              "      <td>1.198667</td>\n",
              "    </tr>\n",
              "    <tr>\n",
              "      <th>std</th>\n",
              "      <td>43.445368</td>\n",
              "      <td>0.828066</td>\n",
              "      <td>0.433594</td>\n",
              "      <td>1.764420</td>\n",
              "      <td>0.763161</td>\n",
              "    </tr>\n",
              "    <tr>\n",
              "      <th>min</th>\n",
              "      <td>1.000000</td>\n",
              "      <td>4.300000</td>\n",
              "      <td>2.000000</td>\n",
              "      <td>1.000000</td>\n",
              "      <td>0.100000</td>\n",
              "    </tr>\n",
              "    <tr>\n",
              "      <th>25%</th>\n",
              "      <td>38.250000</td>\n",
              "      <td>5.100000</td>\n",
              "      <td>2.800000</td>\n",
              "      <td>1.600000</td>\n",
              "      <td>0.300000</td>\n",
              "    </tr>\n",
              "    <tr>\n",
              "      <th>50%</th>\n",
              "      <td>75.500000</td>\n",
              "      <td>5.800000</td>\n",
              "      <td>3.000000</td>\n",
              "      <td>4.350000</td>\n",
              "      <td>1.300000</td>\n",
              "    </tr>\n",
              "    <tr>\n",
              "      <th>75%</th>\n",
              "      <td>112.750000</td>\n",
              "      <td>6.400000</td>\n",
              "      <td>3.300000</td>\n",
              "      <td>5.100000</td>\n",
              "      <td>1.800000</td>\n",
              "    </tr>\n",
              "    <tr>\n",
              "      <th>max</th>\n",
              "      <td>150.000000</td>\n",
              "      <td>7.900000</td>\n",
              "      <td>4.400000</td>\n",
              "      <td>6.900000</td>\n",
              "      <td>2.500000</td>\n",
              "    </tr>\n",
              "  </tbody>\n",
              "</table>\n",
              "</div>\n",
              "      <button class=\"colab-df-convert\" onclick=\"convertToInteractive('df-54d33eac-f73c-48ad-8785-1f4c5b72c57c')\"\n",
              "              title=\"Convert this dataframe to an interactive table.\"\n",
              "              style=\"display:none;\">\n",
              "        \n",
              "  <svg xmlns=\"http://www.w3.org/2000/svg\" height=\"24px\"viewBox=\"0 0 24 24\"\n",
              "       width=\"24px\">\n",
              "    <path d=\"M0 0h24v24H0V0z\" fill=\"none\"/>\n",
              "    <path d=\"M18.56 5.44l.94 2.06.94-2.06 2.06-.94-2.06-.94-.94-2.06-.94 2.06-2.06.94zm-11 1L8.5 8.5l.94-2.06 2.06-.94-2.06-.94L8.5 2.5l-.94 2.06-2.06.94zm10 10l.94 2.06.94-2.06 2.06-.94-2.06-.94-.94-2.06-.94 2.06-2.06.94z\"/><path d=\"M17.41 7.96l-1.37-1.37c-.4-.4-.92-.59-1.43-.59-.52 0-1.04.2-1.43.59L10.3 9.45l-7.72 7.72c-.78.78-.78 2.05 0 2.83L4 21.41c.39.39.9.59 1.41.59.51 0 1.02-.2 1.41-.59l7.78-7.78 2.81-2.81c.8-.78.8-2.07 0-2.86zM5.41 20L4 18.59l7.72-7.72 1.47 1.35L5.41 20z\"/>\n",
              "  </svg>\n",
              "      </button>\n",
              "      \n",
              "  <style>\n",
              "    .colab-df-container {\n",
              "      display:flex;\n",
              "      flex-wrap:wrap;\n",
              "      gap: 12px;\n",
              "    }\n",
              "\n",
              "    .colab-df-convert {\n",
              "      background-color: #E8F0FE;\n",
              "      border: none;\n",
              "      border-radius: 50%;\n",
              "      cursor: pointer;\n",
              "      display: none;\n",
              "      fill: #1967D2;\n",
              "      height: 32px;\n",
              "      padding: 0 0 0 0;\n",
              "      width: 32px;\n",
              "    }\n",
              "\n",
              "    .colab-df-convert:hover {\n",
              "      background-color: #E2EBFA;\n",
              "      box-shadow: 0px 1px 2px rgba(60, 64, 67, 0.3), 0px 1px 3px 1px rgba(60, 64, 67, 0.15);\n",
              "      fill: #174EA6;\n",
              "    }\n",
              "\n",
              "    [theme=dark] .colab-df-convert {\n",
              "      background-color: #3B4455;\n",
              "      fill: #D2E3FC;\n",
              "    }\n",
              "\n",
              "    [theme=dark] .colab-df-convert:hover {\n",
              "      background-color: #434B5C;\n",
              "      box-shadow: 0px 1px 3px 1px rgba(0, 0, 0, 0.15);\n",
              "      filter: drop-shadow(0px 1px 2px rgba(0, 0, 0, 0.3));\n",
              "      fill: #FFFFFF;\n",
              "    }\n",
              "  </style>\n",
              "\n",
              "      <script>\n",
              "        const buttonEl =\n",
              "          document.querySelector('#df-54d33eac-f73c-48ad-8785-1f4c5b72c57c button.colab-df-convert');\n",
              "        buttonEl.style.display =\n",
              "          google.colab.kernel.accessAllowed ? 'block' : 'none';\n",
              "\n",
              "        async function convertToInteractive(key) {\n",
              "          const element = document.querySelector('#df-54d33eac-f73c-48ad-8785-1f4c5b72c57c');\n",
              "          const dataTable =\n",
              "            await google.colab.kernel.invokeFunction('convertToInteractive',\n",
              "                                                     [key], {});\n",
              "          if (!dataTable) return;\n",
              "\n",
              "          const docLinkHtml = 'Like what you see? Visit the ' +\n",
              "            '<a target=\"_blank\" href=https://colab.research.google.com/notebooks/data_table.ipynb>data table notebook</a>'\n",
              "            + ' to learn more about interactive tables.';\n",
              "          element.innerHTML = '';\n",
              "          dataTable['output_type'] = 'display_data';\n",
              "          await google.colab.output.renderOutput(dataTable, element);\n",
              "          const docLink = document.createElement('div');\n",
              "          docLink.innerHTML = docLinkHtml;\n",
              "          element.appendChild(docLink);\n",
              "        }\n",
              "      </script>\n",
              "    </div>\n",
              "  </div>\n",
              "  "
            ]
          },
          "metadata": {},
          "execution_count": 8
        }
      ]
    },
    {
      "cell_type": "code",
      "source": [
        "iris_dataset.groupby('Species').mean()"
      ],
      "metadata": {
        "colab": {
          "base_uri": "https://localhost:8080/",
          "height": 175
        },
        "id": "bWZhYAv6sItv",
        "outputId": "c325f069-c98a-489b-dd9b-c960cde1009e"
      },
      "execution_count": 9,
      "outputs": [
        {
          "output_type": "execute_result",
          "data": {
            "text/plain": [
              "                    Id  SepalLengthCm  SepalWidthCm  PetalLengthCm  \\\n",
              "Species                                                              \n",
              "Iris-setosa       25.5          5.006         3.418          1.464   \n",
              "Iris-versicolor   75.5          5.936         2.770          4.260   \n",
              "Iris-virginica   125.5          6.588         2.974          5.552   \n",
              "\n",
              "                 PetalWidthCm  \n",
              "Species                        \n",
              "Iris-setosa             0.244  \n",
              "Iris-versicolor         1.326  \n",
              "Iris-virginica          2.026  "
            ],
            "text/html": [
              "\n",
              "  <div id=\"df-3e65fa18-ee4d-470b-a96b-43bc08967af5\">\n",
              "    <div class=\"colab-df-container\">\n",
              "      <div>\n",
              "<style scoped>\n",
              "    .dataframe tbody tr th:only-of-type {\n",
              "        vertical-align: middle;\n",
              "    }\n",
              "\n",
              "    .dataframe tbody tr th {\n",
              "        vertical-align: top;\n",
              "    }\n",
              "\n",
              "    .dataframe thead th {\n",
              "        text-align: right;\n",
              "    }\n",
              "</style>\n",
              "<table border=\"1\" class=\"dataframe\">\n",
              "  <thead>\n",
              "    <tr style=\"text-align: right;\">\n",
              "      <th></th>\n",
              "      <th>Id</th>\n",
              "      <th>SepalLengthCm</th>\n",
              "      <th>SepalWidthCm</th>\n",
              "      <th>PetalLengthCm</th>\n",
              "      <th>PetalWidthCm</th>\n",
              "    </tr>\n",
              "    <tr>\n",
              "      <th>Species</th>\n",
              "      <th></th>\n",
              "      <th></th>\n",
              "      <th></th>\n",
              "      <th></th>\n",
              "      <th></th>\n",
              "    </tr>\n",
              "  </thead>\n",
              "  <tbody>\n",
              "    <tr>\n",
              "      <th>Iris-setosa</th>\n",
              "      <td>25.5</td>\n",
              "      <td>5.006</td>\n",
              "      <td>3.418</td>\n",
              "      <td>1.464</td>\n",
              "      <td>0.244</td>\n",
              "    </tr>\n",
              "    <tr>\n",
              "      <th>Iris-versicolor</th>\n",
              "      <td>75.5</td>\n",
              "      <td>5.936</td>\n",
              "      <td>2.770</td>\n",
              "      <td>4.260</td>\n",
              "      <td>1.326</td>\n",
              "    </tr>\n",
              "    <tr>\n",
              "      <th>Iris-virginica</th>\n",
              "      <td>125.5</td>\n",
              "      <td>6.588</td>\n",
              "      <td>2.974</td>\n",
              "      <td>5.552</td>\n",
              "      <td>2.026</td>\n",
              "    </tr>\n",
              "  </tbody>\n",
              "</table>\n",
              "</div>\n",
              "      <button class=\"colab-df-convert\" onclick=\"convertToInteractive('df-3e65fa18-ee4d-470b-a96b-43bc08967af5')\"\n",
              "              title=\"Convert this dataframe to an interactive table.\"\n",
              "              style=\"display:none;\">\n",
              "        \n",
              "  <svg xmlns=\"http://www.w3.org/2000/svg\" height=\"24px\"viewBox=\"0 0 24 24\"\n",
              "       width=\"24px\">\n",
              "    <path d=\"M0 0h24v24H0V0z\" fill=\"none\"/>\n",
              "    <path d=\"M18.56 5.44l.94 2.06.94-2.06 2.06-.94-2.06-.94-.94-2.06-.94 2.06-2.06.94zm-11 1L8.5 8.5l.94-2.06 2.06-.94-2.06-.94L8.5 2.5l-.94 2.06-2.06.94zm10 10l.94 2.06.94-2.06 2.06-.94-2.06-.94-.94-2.06-.94 2.06-2.06.94z\"/><path d=\"M17.41 7.96l-1.37-1.37c-.4-.4-.92-.59-1.43-.59-.52 0-1.04.2-1.43.59L10.3 9.45l-7.72 7.72c-.78.78-.78 2.05 0 2.83L4 21.41c.39.39.9.59 1.41.59.51 0 1.02-.2 1.41-.59l7.78-7.78 2.81-2.81c.8-.78.8-2.07 0-2.86zM5.41 20L4 18.59l7.72-7.72 1.47 1.35L5.41 20z\"/>\n",
              "  </svg>\n",
              "      </button>\n",
              "      \n",
              "  <style>\n",
              "    .colab-df-container {\n",
              "      display:flex;\n",
              "      flex-wrap:wrap;\n",
              "      gap: 12px;\n",
              "    }\n",
              "\n",
              "    .colab-df-convert {\n",
              "      background-color: #E8F0FE;\n",
              "      border: none;\n",
              "      border-radius: 50%;\n",
              "      cursor: pointer;\n",
              "      display: none;\n",
              "      fill: #1967D2;\n",
              "      height: 32px;\n",
              "      padding: 0 0 0 0;\n",
              "      width: 32px;\n",
              "    }\n",
              "\n",
              "    .colab-df-convert:hover {\n",
              "      background-color: #E2EBFA;\n",
              "      box-shadow: 0px 1px 2px rgba(60, 64, 67, 0.3), 0px 1px 3px 1px rgba(60, 64, 67, 0.15);\n",
              "      fill: #174EA6;\n",
              "    }\n",
              "\n",
              "    [theme=dark] .colab-df-convert {\n",
              "      background-color: #3B4455;\n",
              "      fill: #D2E3FC;\n",
              "    }\n",
              "\n",
              "    [theme=dark] .colab-df-convert:hover {\n",
              "      background-color: #434B5C;\n",
              "      box-shadow: 0px 1px 3px 1px rgba(0, 0, 0, 0.15);\n",
              "      filter: drop-shadow(0px 1px 2px rgba(0, 0, 0, 0.3));\n",
              "      fill: #FFFFFF;\n",
              "    }\n",
              "  </style>\n",
              "\n",
              "      <script>\n",
              "        const buttonEl =\n",
              "          document.querySelector('#df-3e65fa18-ee4d-470b-a96b-43bc08967af5 button.colab-df-convert');\n",
              "        buttonEl.style.display =\n",
              "          google.colab.kernel.accessAllowed ? 'block' : 'none';\n",
              "\n",
              "        async function convertToInteractive(key) {\n",
              "          const element = document.querySelector('#df-3e65fa18-ee4d-470b-a96b-43bc08967af5');\n",
              "          const dataTable =\n",
              "            await google.colab.kernel.invokeFunction('convertToInteractive',\n",
              "                                                     [key], {});\n",
              "          if (!dataTable) return;\n",
              "\n",
              "          const docLinkHtml = 'Like what you see? Visit the ' +\n",
              "            '<a target=\"_blank\" href=https://colab.research.google.com/notebooks/data_table.ipynb>data table notebook</a>'\n",
              "            + ' to learn more about interactive tables.';\n",
              "          element.innerHTML = '';\n",
              "          dataTable['output_type'] = 'display_data';\n",
              "          await google.colab.output.renderOutput(dataTable, element);\n",
              "          const docLink = document.createElement('div');\n",
              "          docLink.innerHTML = docLinkHtml;\n",
              "          element.appendChild(docLink);\n",
              "        }\n",
              "      </script>\n",
              "    </div>\n",
              "  </div>\n",
              "  "
            ]
          },
          "metadata": {},
          "execution_count": 9
        }
      ]
    },
    {
      "cell_type": "code",
      "source": [
        "#seperating the data and labels\n",
        "X = iris_dataset.drop(columns = 'Species',axis = 1)\n",
        "Y = iris_dataset['Species']\n",
        "print(X)\n",
        "print(Y)"
      ],
      "metadata": {
        "colab": {
          "base_uri": "https://localhost:8080/"
        },
        "id": "rsAm9lQcsQKn",
        "outputId": "13f6eff5-ff04-4bcd-dcc8-04017480acd7"
      },
      "execution_count": 10,
      "outputs": [
        {
          "output_type": "stream",
          "name": "stdout",
          "text": [
            "      Id  SepalLengthCm  SepalWidthCm  PetalLengthCm  PetalWidthCm\n",
            "0      1            5.1           3.5            1.4           0.2\n",
            "1      2            4.9           3.0            1.4           0.2\n",
            "2      3            4.7           3.2            1.3           0.2\n",
            "3      4            4.6           3.1            1.5           0.2\n",
            "4      5            5.0           3.6            1.4           0.2\n",
            "..   ...            ...           ...            ...           ...\n",
            "145  146            6.7           3.0            5.2           2.3\n",
            "146  147            6.3           2.5            5.0           1.9\n",
            "147  148            6.5           3.0            5.2           2.0\n",
            "148  149            6.2           3.4            5.4           2.3\n",
            "149  150            5.9           3.0            5.1           1.8\n",
            "\n",
            "[150 rows x 5 columns]\n",
            "0         Iris-setosa\n",
            "1         Iris-setosa\n",
            "2         Iris-setosa\n",
            "3         Iris-setosa\n",
            "4         Iris-setosa\n",
            "            ...      \n",
            "145    Iris-virginica\n",
            "146    Iris-virginica\n",
            "147    Iris-virginica\n",
            "148    Iris-virginica\n",
            "149    Iris-virginica\n",
            "Name: Species, Length: 150, dtype: object\n"
          ]
        }
      ]
    },
    {
      "cell_type": "code",
      "source": [
        "sns.countplot(x ='Species',data =iris_dataset)"
      ],
      "metadata": {
        "colab": {
          "base_uri": "https://localhost:8080/",
          "height": 296
        },
        "id": "aI2rrCLosUHT",
        "outputId": "2659007c-e07e-401f-c356-e64a5ba90f97"
      },
      "execution_count": 11,
      "outputs": [
        {
          "output_type": "execute_result",
          "data": {
            "text/plain": [
              "<matplotlib.axes._subplots.AxesSubplot at 0x7fb08ee84690>"
            ]
          },
          "metadata": {},
          "execution_count": 11
        },
        {
          "output_type": "display_data",
          "data": {
            "text/plain": [
              "<Figure size 432x288 with 1 Axes>"
            ],
            "image/png": "[encoded data removed]"
          },
          "metadata": {
            "needs_background": "light"
          }
        }
      ]
    },
    {
      "cell_type": "code",
      "source": [
        "#correlation matrix to show correlation between two variables, 0, x means x% similar\n",
        "corr_mat = iris_dataset.corr()\n",
        "sns.heatmap(corr_mat, annot = True)"
      ],
      "metadata": {
        "colab": {
          "base_uri": "https://localhost:8080/",
          "height": 355
        },
        "id": "_XUVVPWxsX8c",
        "outputId": "1e18952a-d379-42c3-b787-2f59faffc633"
      },
      "execution_count": 12,
      "outputs": [
        {
          "output_type": "execute_result",
          "data": {
            "text/plain": [
              "<matplotlib.axes._subplots.AxesSubplot at 0x7fb08ed55f10>"
            ]
          },
          "metadata": {},
          "execution_count": 12
        },
        {
          "output_type": "display_data",
          "data": {
            "text/plain": [
              "<Figure size 432x288 with 2 Axes>"
            ],
            "image/png": "[encoded data removed]"
          },
          "metadata": {
            "needs_background": "light"
          }
        }
      ]
    },
    {
      "cell_type": "markdown",
      "source": [
        "EXPLORATORY DATA ANALYSIS"
      ],
      "metadata": {
        "id": "JwZtEdRtsdp9"
      }
    },
    {
      "cell_type": "code",
      "source": [
        "iris_dataset['SepalLengthCm'].hist()"
      ],
      "metadata": {
        "colab": {
          "base_uri": "https://localhost:8080/",
          "height": 282
        },
        "id": "zi0mOGIDsmZJ",
        "outputId": "4973ca4e-f69a-4e50-ffb8-107187ab7955"
      },
      "execution_count": 13,
      "outputs": [
        {
          "output_type": "execute_result",
          "data": {
            "text/plain": [
              "<matplotlib.axes._subplots.AxesSubplot at 0x7fb08bf962d0>"
            ]
          },
          "metadata": {},
          "execution_count": 13
        },
        {
          "output_type": "display_data",
          "data": {
            "text/plain": [
              "<Figure size 432x288 with 1 Axes>"
            ],
            "image/png": "[encoded data removed]"
          },
          "metadata": {
            "needs_background": "light"
          }
        }
      ]
    },
    {
      "cell_type": "code",
      "source": [
        "iris_dataset['SepalWidthCm'].hist()"
      ],
      "metadata": {
        "colab": {
          "base_uri": "https://localhost:8080/",
          "height": 282
        },
        "id": "aIzVSmvbsp4G",
        "outputId": "098d5b26-dd1a-492f-be01-dd5553c00b13"
      },
      "execution_count": 14,
      "outputs": [
        {
          "output_type": "execute_result",
          "data": {
            "text/plain": [
              "<matplotlib.axes._subplots.AxesSubplot at 0x7fb08c0458d0>"
            ]
          },
          "metadata": {},
          "execution_count": 14
        },
        {
          "output_type": "display_data",
          "data": {
            "text/plain": [
              "<Figure size 432x288 with 1 Axes>"
            ],
            "image/png": "[encoded data removed]"
          },
          "metadata": {
            "needs_background": "light"
          }
        }
      ]
    },
    {
      "cell_type": "code",
      "source": [
        "iris_dataset['PetalLengthCm'].hist()"
      ],
      "metadata": {
        "colab": {
          "base_uri": "https://localhost:8080/",
          "height": 282
        },
        "id": "5GOxLYlkss94",
        "outputId": "486ec495-d95e-4fda-f9cd-b4992f4e932e"
      },
      "execution_count": 15,
      "outputs": [
        {
          "output_type": "execute_result",
          "data": {
            "text/plain": [
              "<matplotlib.axes._subplots.AxesSubplot at 0x7fb08beb6f90>"
            ]
          },
          "metadata": {},
          "execution_count": 15
        },
        {
          "output_type": "display_data",
          "data": {
            "text/plain": [
              "<Figure size 432x288 with 1 Axes>"
            ],
            "image/png": "[encoded data removed]"
          },
          "metadata": {
            "needs_background": "light"
          }
        }
      ]
    },
    {
      "cell_type": "code",
      "source": [
        "iris_dataset['PetalWidthCm'].hist()"
      ],
      "metadata": {
        "colab": {
          "base_uri": "https://localhost:8080/",
          "height": 282
        },
        "id": "0PLr_aHYswE6",
        "outputId": "cf9b7c1c-e8e1-42ea-eaf3-f8b175625696"
      },
      "execution_count": 16,
      "outputs": [
        {
          "output_type": "execute_result",
          "data": {
            "text/plain": [
              "<matplotlib.axes._subplots.AxesSubplot at 0x7fb08bf360d0>"
            ]
          },
          "metadata": {},
          "execution_count": 16
        },
        {
          "output_type": "display_data",
          "data": {
            "text/plain": [
              "<Figure size 432x288 with 1 Axes>"
            ],
            "image/png": "[encoded data removed]"
          },
          "metadata": {
            "needs_background": "light"
          }
        }
      ]
    },
    {
      "cell_type": "code",
      "source": [
        "colors = ['pink' , 'purple' , 'blue']\n",
        "Species = ['Iris-setosa' , \n",
        "'Iris-versicolor' , \n",
        "'Iris-virginica' ]"
      ],
      "metadata": {
        "id": "N9GWppbZsyzA"
      },
      "execution_count": 17,
      "outputs": []
    },
    {
      "cell_type": "code",
      "source": [
        "for i in range(3):\n",
        "    x = iris_dataset[iris_dataset['Species'] == Species[i]]\n",
        "    plot.scatter(x['SepalLengthCm'], x['SepalWidthCm'], c=colors[i], label=Species[i])\n",
        "plot.xlabel(\"sepal length\")\n",
        "plot.ylabel(\"sepal width\")\n",
        "plot.legend() "
      ],
      "metadata": {
        "colab": {
          "base_uri": "https://localhost:8080/",
          "height": 299
        },
        "id": "5YYGpdTss5Mu",
        "outputId": "691199f5-5b38-4e40-e833-b5dffdc147c5"
      },
      "execution_count": 18,
      "outputs": [
        {
          "output_type": "execute_result",
          "data": {
            "text/plain": [
              "<matplotlib.legend.Legend at 0x7fb08bd437d0>"
            ]
          },
          "metadata": {},
          "execution_count": 18
        },
        {
          "output_type": "display_data",
          "data": {
            "text/plain": [
              "<Figure size 432x288 with 1 Axes>"
            ],
            "image/png": "[encoded data removed]"
          },
          "metadata": {
            "needs_background": "light"
          }
        }
      ]
    },
    {
      "cell_type": "code",
      "source": [
        "for i in range(3):\n",
        "    x = iris_dataset[iris_dataset['Species'] == Species[i]]\n",
        "    plot.scatter(x['PetalLengthCm'], x['PetalWidthCm'], c=colors[i], label=Species[i])\n",
        "plot.xlabel(\"petal length\")\n",
        "plot.ylabel(\"petal width\")\n",
        "plot.legend() "
      ],
      "metadata": {
        "colab": {
          "base_uri": "https://localhost:8080/",
          "height": 296
        },
        "id": "Y7DMwdQbs-R2",
        "outputId": "4944ce3c-0de3-446b-ebcd-98a0e33fe025"
      },
      "execution_count": 19,
      "outputs": [
        {
          "output_type": "execute_result",
          "data": {
            "text/plain": [
              "<matplotlib.legend.Legend at 0x7fb08bc8c810>"
            ]
          },
          "metadata": {},
          "execution_count": 19
        },
        {
          "output_type": "display_data",
          "data": {
            "text/plain": [
              "<Figure size 432x288 with 1 Axes>"
            ],
            "image/png": "[encoded data removed]"
          },
          "metadata": {
            "needs_background": "light"
          }
        }
      ]
    },
    {
      "cell_type": "code",
      "source": [
        "for i in range(3):\n",
        "    x = iris_dataset[iris_dataset['Species'] == Species[i]]\n",
        "    plot.scatter(x['SepalLengthCm'], x['PetalLengthCm'], c=colors[i], label=Species[i])\n",
        "plot.xlabel(\"sepal length\")\n",
        "plot.ylabel(\"petal length\")\n",
        "plot.legend() "
      ],
      "metadata": {
        "colab": {
          "base_uri": "https://localhost:8080/",
          "height": 296
        },
        "id": "JkEz6rO-tFDq",
        "outputId": "bde2209a-1a53-4dc0-972b-6d1c4eec9308"
      },
      "execution_count": 20,
      "outputs": [
        {
          "output_type": "execute_result",
          "data": {
            "text/plain": [
              "<matplotlib.legend.Legend at 0x7fb08bc1eb50>"
            ]
          },
          "metadata": {},
          "execution_count": 20
        },
        {
          "output_type": "display_data",
          "data": {
            "text/plain": [
              "<Figure size 432x288 with 1 Axes>"
            ],
            "image/png": "[encoded data removed]"
          },
          "metadata": {
            "needs_background": "light"
          }
        }
      ]
    },
    {
      "cell_type": "code",
      "source": [
        "for i in range(3):\n",
        "    x = iris_dataset[iris_dataset['Species'] == Species[i]]\n",
        "    plot.scatter(x['SepalWidthCm'], x['PetalWidthCm'], c=colors[i], label=Species[i])\n",
        "plot.xlabel(\"sepal width\")\n",
        "plot.ylabel(\"petal width\")\n",
        "plot.legend() "
      ],
      "metadata": {
        "colab": {
          "base_uri": "https://localhost:8080/",
          "height": 296
        },
        "id": "EvBdWlsGtJIy",
        "outputId": "d76fc20e-3013-4339-bcfc-faa91a0735d5"
      },
      "execution_count": 21,
      "outputs": [
        {
          "output_type": "execute_result",
          "data": {
            "text/plain": [
              "<matplotlib.legend.Legend at 0x7fb08bb977d0>"
            ]
          },
          "metadata": {},
          "execution_count": 21
        },
        {
          "output_type": "display_data",
          "data": {
            "text/plain": [
              "<Figure size 432x288 with 1 Axes>"
            ],
            "image/png": "[encoded data removed]"
          },
          "metadata": {
            "needs_background": "light"
          }
        }
      ]
    },
    {
      "cell_type": "markdown",
      "source": [
        "DATA STANDARDIZATION"
      ],
      "metadata": {
        "id": "MEIRM8I5tQZX"
      }
    },
    {
      "cell_type": "code",
      "source": [
        "scaler = StandardScaler()\n",
        "scaler.fit(X)"
      ],
      "metadata": {
        "colab": {
          "base_uri": "https://localhost:8080/"
        },
        "id": "D6sQZDiltWt3",
        "outputId": "8e3afc0c-bf15-418c-a139-f3cf9f2c4aae"
      },
      "execution_count": 22,
      "outputs": [
        {
          "output_type": "execute_result",
          "data": {
            "text/plain": [
              "StandardScaler()"
            ]
          },
          "metadata": {},
          "execution_count": 22
        }
      ]
    },
    {
      "cell_type": "code",
      "source": [
        "standardized_data = scaler.transform(X)"
      ],
      "metadata": {
        "id": "vZbLClb9tZmN"
      },
      "execution_count": 23,
      "outputs": []
    },
    {
      "cell_type": "code",
      "source": [
        "print(standardized_data)"
      ],
      "metadata": {
        "colab": {
          "base_uri": "https://localhost:8080/"
        },
        "id": "GZBOAXUFtcBL",
        "outputId": "5100d374-2eab-45c3-9a6d-e43521b15eb7"
      },
      "execution_count": 24,
      "outputs": [
        {
          "output_type": "stream",
          "name": "stdout",
          "text": [
            "[[-1.72054204e+00 -9.00681170e-01  1.03205722e+00 -1.34127240e+00\n",
            "  -1.31297673e+00]\n",
            " [-1.69744751e+00 -1.14301691e+00 -1.24957601e-01 -1.34127240e+00\n",
            "  -1.31297673e+00]\n",
            " [-1.67435299e+00 -1.38535265e+00  3.37848329e-01 -1.39813811e+00\n",
            "  -1.31297673e+00]\n",
            " [-1.65125846e+00 -1.50652052e+00  1.06445364e-01 -1.28440670e+00\n",
            "  -1.31297673e+00]\n",
            " [-1.62816394e+00 -1.02184904e+00  1.26346019e+00 -1.34127240e+00\n",
            "  -1.31297673e+00]\n",
            " [-1.60506942e+00 -5.37177559e-01  1.95766909e+00 -1.17067529e+00\n",
            "  -1.05003079e+00]\n",
            " [-1.58197489e+00 -1.50652052e+00  8.00654259e-01 -1.34127240e+00\n",
            "  -1.18150376e+00]\n",
            " [-1.55888037e+00 -1.02184904e+00  8.00654259e-01 -1.28440670e+00\n",
            "  -1.31297673e+00]\n",
            " [-1.53578584e+00 -1.74885626e+00 -3.56360566e-01 -1.34127240e+00\n",
            "  -1.31297673e+00]\n",
            " [-1.51269132e+00 -1.14301691e+00  1.06445364e-01 -1.28440670e+00\n",
            "  -1.44444970e+00]\n",
            " [-1.48959680e+00 -5.37177559e-01  1.49486315e+00 -1.28440670e+00\n",
            "  -1.31297673e+00]\n",
            " [-1.46650227e+00 -1.26418478e+00  8.00654259e-01 -1.22754100e+00\n",
            "  -1.31297673e+00]\n",
            " [-1.44340775e+00 -1.26418478e+00 -1.24957601e-01 -1.34127240e+00\n",
            "  -1.44444970e+00]\n",
            " [-1.42031323e+00 -1.87002413e+00 -1.24957601e-01 -1.51186952e+00\n",
            "  -1.44444970e+00]\n",
            " [-1.39721870e+00 -5.25060772e-02  2.18907205e+00 -1.45500381e+00\n",
            "  -1.31297673e+00]\n",
            " [-1.37412418e+00 -1.73673948e-01  3.11468391e+00 -1.28440670e+00\n",
            "  -1.05003079e+00]\n",
            " [-1.35102965e+00 -5.37177559e-01  1.95766909e+00 -1.39813811e+00\n",
            "  -1.05003079e+00]\n",
            " [-1.32793513e+00 -9.00681170e-01  1.03205722e+00 -1.34127240e+00\n",
            "  -1.18150376e+00]\n",
            " [-1.30484061e+00 -1.73673948e-01  1.72626612e+00 -1.17067529e+00\n",
            "  -1.18150376e+00]\n",
            " [-1.28174608e+00 -9.00681170e-01  1.72626612e+00 -1.28440670e+00\n",
            "  -1.18150376e+00]\n",
            " [-1.25865156e+00 -5.37177559e-01  8.00654259e-01 -1.17067529e+00\n",
            "  -1.31297673e+00]\n",
            " [-1.23555703e+00 -9.00681170e-01  1.49486315e+00 -1.28440670e+00\n",
            "  -1.05003079e+00]\n",
            " [-1.21246251e+00 -1.50652052e+00  1.26346019e+00 -1.56873522e+00\n",
            "  -1.31297673e+00]\n",
            " [-1.18936799e+00 -9.00681170e-01  5.69251294e-01 -1.17067529e+00\n",
            "  -9.18557817e-01]\n",
            " [-1.16627346e+00 -1.26418478e+00  8.00654259e-01 -1.05694388e+00\n",
            "  -1.31297673e+00]\n",
            " [-1.14317894e+00 -1.02184904e+00 -1.24957601e-01 -1.22754100e+00\n",
            "  -1.31297673e+00]\n",
            " [-1.12008441e+00 -1.02184904e+00  8.00654259e-01 -1.22754100e+00\n",
            "  -1.05003079e+00]\n",
            " [-1.09698989e+00 -7.79513300e-01  1.03205722e+00 -1.28440670e+00\n",
            "  -1.31297673e+00]\n",
            " [-1.07389537e+00 -7.79513300e-01  8.00654259e-01 -1.34127240e+00\n",
            "  -1.31297673e+00]\n",
            " [-1.05080084e+00 -1.38535265e+00  3.37848329e-01 -1.22754100e+00\n",
            "  -1.31297673e+00]\n",
            " [-1.02770632e+00 -1.26418478e+00  1.06445364e-01 -1.22754100e+00\n",
            "  -1.31297673e+00]\n",
            " [-1.00461179e+00 -5.37177559e-01  8.00654259e-01 -1.28440670e+00\n",
            "  -1.05003079e+00]\n",
            " [-9.81517269e-01 -7.79513300e-01  2.42047502e+00 -1.28440670e+00\n",
            "  -1.44444970e+00]\n",
            " [-9.58422745e-01 -4.16009689e-01  2.65187798e+00 -1.34127240e+00\n",
            "  -1.31297673e+00]\n",
            " [-9.35328221e-01 -1.14301691e+00  1.06445364e-01 -1.28440670e+00\n",
            "  -1.44444970e+00]\n",
            " [-9.12233697e-01 -1.02184904e+00  3.37848329e-01 -1.45500381e+00\n",
            "  -1.31297673e+00]\n",
            " [-8.89139173e-01 -4.16009689e-01  1.03205722e+00 -1.39813811e+00\n",
            "  -1.31297673e+00]\n",
            " [-8.66044649e-01 -1.14301691e+00  1.06445364e-01 -1.28440670e+00\n",
            "  -1.44444970e+00]\n",
            " [-8.42950125e-01 -1.74885626e+00 -1.24957601e-01 -1.39813811e+00\n",
            "  -1.31297673e+00]\n",
            " [-8.19855601e-01 -9.00681170e-01  8.00654259e-01 -1.28440670e+00\n",
            "  -1.31297673e+00]\n",
            " [-7.96761077e-01 -1.02184904e+00  1.03205722e+00 -1.39813811e+00\n",
            "  -1.18150376e+00]\n",
            " [-7.73666553e-01 -1.62768839e+00 -1.74477836e+00 -1.39813811e+00\n",
            "  -1.18150376e+00]\n",
            " [-7.50572030e-01 -1.74885626e+00  3.37848329e-01 -1.39813811e+00\n",
            "  -1.31297673e+00]\n",
            " [-7.27477506e-01 -1.02184904e+00  1.03205722e+00 -1.22754100e+00\n",
            "  -7.87084847e-01]\n",
            " [-7.04382982e-01 -9.00681170e-01  1.72626612e+00 -1.05694388e+00\n",
            "  -1.05003079e+00]\n",
            " [-6.81288458e-01 -1.26418478e+00 -1.24957601e-01 -1.34127240e+00\n",
            "  -1.18150376e+00]\n",
            " [-6.58193934e-01 -9.00681170e-01  1.72626612e+00 -1.22754100e+00\n",
            "  -1.31297673e+00]\n",
            " [-6.35099410e-01 -1.50652052e+00  3.37848329e-01 -1.34127240e+00\n",
            "  -1.31297673e+00]\n",
            " [-6.12004886e-01 -6.58345429e-01  1.49486315e+00 -1.28440670e+00\n",
            "  -1.31297673e+00]\n",
            " [-5.88910362e-01 -1.02184904e+00  5.69251294e-01 -1.34127240e+00\n",
            "  -1.31297673e+00]\n",
            " [-5.65815838e-01  1.40150837e+00  3.37848329e-01  5.35295827e-01\n",
            "   2.64698913e-01]\n",
            " [-5.42721314e-01  6.74501145e-01  3.37848329e-01  4.21564419e-01\n",
            "   3.96171883e-01]\n",
            " [-5.19626790e-01  1.28034050e+00  1.06445364e-01  6.49027235e-01\n",
            "   3.96171883e-01]\n",
            " [-4.96532266e-01 -4.16009689e-01 -1.74477836e+00  1.37235899e-01\n",
            "   1.33225943e-01]\n",
            " [-4.73437742e-01  7.95669016e-01 -5.87763531e-01  4.78430123e-01\n",
            "   3.96171883e-01]\n",
            " [-4.50343218e-01 -1.73673948e-01 -5.87763531e-01  4.21564419e-01\n",
            "   1.33225943e-01]\n",
            " [-4.27248694e-01  5.53333275e-01  5.69251294e-01  5.35295827e-01\n",
            "   5.27644853e-01]\n",
            " [-4.04154170e-01 -1.14301691e+00 -1.51337539e+00 -2.60824029e-01\n",
            "  -2.61192967e-01]\n",
            " [-3.81059646e-01  9.16836886e-01 -3.56360566e-01  4.78430123e-01\n",
            "   1.33225943e-01]\n",
            " [-3.57965122e-01 -7.79513300e-01 -8.19166497e-01  8.03701950e-02\n",
            "   2.64698913e-01]\n",
            " [-3.34870598e-01 -1.02184904e+00 -2.43898725e+00 -1.47092621e-01\n",
            "  -2.61192967e-01]\n",
            " [-3.11776074e-01  6.86617933e-02 -1.24957601e-01  2.50967307e-01\n",
            "   3.96171883e-01]\n",
            " [-2.88681550e-01  1.89829664e-01 -1.97618132e+00  1.37235899e-01\n",
            "  -2.61192967e-01]\n",
            " [-2.65587026e-01  3.10997534e-01 -3.56360566e-01  5.35295827e-01\n",
            "   2.64698913e-01]\n",
            " [-2.42492502e-01 -2.94841818e-01 -3.56360566e-01 -9.02269170e-02\n",
            "   1.33225943e-01]\n",
            " [-2.19397978e-01  1.03800476e+00  1.06445364e-01  3.64698715e-01\n",
            "   2.64698913e-01]\n",
            " [-1.96303454e-01 -2.94841818e-01 -1.24957601e-01  4.21564419e-01\n",
            "   3.96171883e-01]\n",
            " [-1.73208930e-01 -5.25060772e-02 -8.19166497e-01  1.94101603e-01\n",
            "  -2.61192967e-01]\n",
            " [-1.50114406e-01  4.32165405e-01 -1.97618132e+00  4.21564419e-01\n",
            "   3.96171883e-01]\n",
            " [-1.27019882e-01 -2.94841818e-01 -1.28197243e+00  8.03701950e-02\n",
            "  -1.29719997e-01]\n",
            " [-1.03925358e-01  6.86617933e-02  3.37848329e-01  5.92161531e-01\n",
            "   7.90590793e-01]\n",
            " [-8.08308339e-02  3.10997534e-01 -5.87763531e-01  1.37235899e-01\n",
            "   1.33225943e-01]\n",
            " [-5.77363100e-02  5.53333275e-01 -1.28197243e+00  6.49027235e-01\n",
            "   3.96171883e-01]\n",
            " [-3.46417860e-02  3.10997534e-01 -5.87763531e-01  5.35295827e-01\n",
            "   1.75297293e-03]\n",
            " [-1.15472620e-02  6.74501145e-01 -3.56360566e-01  3.07833011e-01\n",
            "   1.33225943e-01]\n",
            " [ 1.15472620e-02  9.16836886e-01 -1.24957601e-01  3.64698715e-01\n",
            "   2.64698913e-01]\n",
            " [ 3.46417860e-02  1.15917263e+00 -5.87763531e-01  5.92161531e-01\n",
            "   2.64698913e-01]\n",
            " [ 5.77363100e-02  1.03800476e+00 -1.24957601e-01  7.05892939e-01\n",
            "   6.59117823e-01]\n",
            " [ 8.08308339e-02  1.89829664e-01 -3.56360566e-01  4.21564419e-01\n",
            "   3.96171883e-01]\n",
            " [ 1.03925358e-01 -1.73673948e-01 -1.05056946e+00 -1.47092621e-01\n",
            "  -2.61192967e-01]\n",
            " [ 1.27019882e-01 -4.16009689e-01 -1.51337539e+00  2.35044910e-02\n",
            "  -1.29719997e-01]\n",
            " [ 1.50114406e-01 -4.16009689e-01 -1.51337539e+00 -3.33612130e-02\n",
            "  -2.61192967e-01]\n",
            " [ 1.73208930e-01 -5.25060772e-02 -8.19166497e-01  8.03701950e-02\n",
            "   1.75297293e-03]\n",
            " [ 1.96303454e-01  1.89829664e-01 -8.19166497e-01  7.62758643e-01\n",
            "   5.27644853e-01]\n",
            " [ 2.19397978e-01 -5.37177559e-01 -1.24957601e-01  4.21564419e-01\n",
            "   3.96171883e-01]\n",
            " [ 2.42492502e-01  1.89829664e-01  8.00654259e-01  4.21564419e-01\n",
            "   5.27644853e-01]\n",
            " [ 2.65587026e-01  1.03800476e+00  1.06445364e-01  5.35295827e-01\n",
            "   3.96171883e-01]\n",
            " [ 2.88681550e-01  5.53333275e-01 -1.74477836e+00  3.64698715e-01\n",
            "   1.33225943e-01]\n",
            " [ 3.11776074e-01 -2.94841818e-01 -1.24957601e-01  1.94101603e-01\n",
            "   1.33225943e-01]\n",
            " [ 3.34870598e-01 -4.16009689e-01 -1.28197243e+00  1.37235899e-01\n",
            "   1.33225943e-01]\n",
            " [ 3.57965122e-01 -4.16009689e-01 -1.05056946e+00  3.64698715e-01\n",
            "   1.75297293e-03]\n",
            " [ 3.81059646e-01  3.10997534e-01 -1.24957601e-01  4.78430123e-01\n",
            "   2.64698913e-01]\n",
            " [ 4.04154170e-01 -5.25060772e-02 -1.05056946e+00  1.37235899e-01\n",
            "   1.75297293e-03]\n",
            " [ 4.27248694e-01 -1.02184904e+00 -1.74477836e+00 -2.60824029e-01\n",
            "  -2.61192967e-01]\n",
            " [ 4.50343218e-01 -2.94841818e-01 -8.19166497e-01  2.50967307e-01\n",
            "   1.33225943e-01]\n",
            " [ 4.73437742e-01 -1.73673948e-01 -1.24957601e-01  2.50967307e-01\n",
            "   1.75297293e-03]\n",
            " [ 4.96532266e-01 -1.73673948e-01 -3.56360566e-01  2.50967307e-01\n",
            "   1.33225943e-01]\n",
            " [ 5.19626790e-01  4.32165405e-01 -3.56360566e-01  3.07833011e-01\n",
            "   1.33225943e-01]\n",
            " [ 5.42721314e-01 -9.00681170e-01 -1.28197243e+00 -4.31421141e-01\n",
            "  -1.29719997e-01]\n",
            " [ 5.65815838e-01 -1.73673948e-01 -5.87763531e-01  1.94101603e-01\n",
            "   1.33225943e-01]\n",
            " [ 5.88910362e-01  5.53333275e-01  5.69251294e-01  1.27454998e+00\n",
            "   1.71090158e+00]\n",
            " [ 6.12004886e-01 -5.25060772e-02 -8.19166497e-01  7.62758643e-01\n",
            "   9.22063763e-01]\n",
            " [ 6.35099410e-01  1.52267624e+00 -1.24957601e-01  1.21768427e+00\n",
            "   1.18500970e+00]\n",
            " [ 6.58193934e-01  5.53333275e-01 -3.56360566e-01  1.04708716e+00\n",
            "   7.90590793e-01]\n",
            " [ 6.81288458e-01  7.95669016e-01 -1.24957601e-01  1.16081857e+00\n",
            "   1.31648267e+00]\n",
            " [ 7.04382982e-01  2.12851559e+00 -1.24957601e-01  1.61574420e+00\n",
            "   1.18500970e+00]\n",
            " [ 7.27477506e-01 -1.14301691e+00 -1.28197243e+00  4.21564419e-01\n",
            "   6.59117823e-01]\n",
            " [ 7.50572030e-01  1.76501198e+00 -3.56360566e-01  1.44514709e+00\n",
            "   7.90590793e-01]\n",
            " [ 7.73666553e-01  1.03800476e+00 -1.28197243e+00  1.16081857e+00\n",
            "   7.90590793e-01]\n",
            " [ 7.96761077e-01  1.64384411e+00  1.26346019e+00  1.33141568e+00\n",
            "   1.71090158e+00]\n",
            " [ 8.19855601e-01  7.95669016e-01  3.37848329e-01  7.62758643e-01\n",
            "   1.05353673e+00]\n",
            " [ 8.42950125e-01  6.74501145e-01 -8.19166497e-01  8.76490051e-01\n",
            "   9.22063763e-01]\n",
            " [ 8.66044649e-01  1.15917263e+00 -1.24957601e-01  9.90221459e-01\n",
            "   1.18500970e+00]\n",
            " [ 8.89139173e-01 -1.73673948e-01 -1.28197243e+00  7.05892939e-01\n",
            "   1.05353673e+00]\n",
            " [ 9.12233697e-01 -5.25060772e-02 -5.87763531e-01  7.62758643e-01\n",
            "   1.57942861e+00]\n",
            " [ 9.35328221e-01  6.74501145e-01  3.37848329e-01  8.76490051e-01\n",
            "   1.44795564e+00]\n",
            " [ 9.58422745e-01  7.95669016e-01 -1.24957601e-01  9.90221459e-01\n",
            "   7.90590793e-01]\n",
            " [ 9.81517269e-01  2.24968346e+00  1.72626612e+00  1.67260991e+00\n",
            "   1.31648267e+00]\n",
            " [ 1.00461179e+00  2.24968346e+00 -1.05056946e+00  1.78634131e+00\n",
            "   1.44795564e+00]\n",
            " [ 1.02770632e+00  1.89829664e-01 -1.97618132e+00  7.05892939e-01\n",
            "   3.96171883e-01]\n",
            " [ 1.05080084e+00  1.28034050e+00  3.37848329e-01  1.10395287e+00\n",
            "   1.44795564e+00]\n",
            " [ 1.07389537e+00 -2.94841818e-01 -5.87763531e-01  6.49027235e-01\n",
            "   1.05353673e+00]\n",
            " [ 1.09698989e+00  2.24968346e+00 -5.87763531e-01  1.67260991e+00\n",
            "   1.05353673e+00]\n",
            " [ 1.12008441e+00  5.53333275e-01 -8.19166497e-01  6.49027235e-01\n",
            "   7.90590793e-01]\n",
            " [ 1.14317894e+00  1.03800476e+00  5.69251294e-01  1.10395287e+00\n",
            "   1.18500970e+00]\n",
            " [ 1.16627346e+00  1.64384411e+00  3.37848329e-01  1.27454998e+00\n",
            "   7.90590793e-01]\n",
            " [ 1.18936799e+00  4.32165405e-01 -5.87763531e-01  5.92161531e-01\n",
            "   7.90590793e-01]\n",
            " [ 1.21246251e+00  3.10997534e-01 -1.24957601e-01  6.49027235e-01\n",
            "   7.90590793e-01]\n",
            " [ 1.23555703e+00  6.74501145e-01 -5.87763531e-01  1.04708716e+00\n",
            "   1.18500970e+00]\n",
            " [ 1.25865156e+00  1.64384411e+00 -1.24957601e-01  1.16081857e+00\n",
            "   5.27644853e-01]\n",
            " [ 1.28174608e+00  1.88617985e+00 -5.87763531e-01  1.33141568e+00\n",
            "   9.22063763e-01]\n",
            " [ 1.30484061e+00  2.49201920e+00  1.72626612e+00  1.50201279e+00\n",
            "   1.05353673e+00]\n",
            " [ 1.32793513e+00  6.74501145e-01 -5.87763531e-01  1.04708716e+00\n",
            "   1.31648267e+00]\n",
            " [ 1.35102965e+00  5.53333275e-01 -5.87763531e-01  7.62758643e-01\n",
            "   3.96171883e-01]\n",
            " [ 1.37412418e+00  3.10997534e-01 -1.05056946e+00  1.04708716e+00\n",
            "   2.64698913e-01]\n",
            " [ 1.39721870e+00  2.24968346e+00 -1.24957601e-01  1.33141568e+00\n",
            "   1.44795564e+00]\n",
            " [ 1.42031323e+00  5.53333275e-01  8.00654259e-01  1.04708716e+00\n",
            "   1.57942861e+00]\n",
            " [ 1.44340775e+00  6.74501145e-01  1.06445364e-01  9.90221459e-01\n",
            "   7.90590793e-01]\n",
            " [ 1.46650227e+00  1.89829664e-01 -1.24957601e-01  5.92161531e-01\n",
            "   7.90590793e-01]\n",
            " [ 1.48959680e+00  1.28034050e+00  1.06445364e-01  9.33355755e-01\n",
            "   1.18500970e+00]\n",
            " [ 1.51269132e+00  1.03800476e+00  1.06445364e-01  1.04708716e+00\n",
            "   1.57942861e+00]\n",
            " [ 1.53578584e+00  1.28034050e+00  1.06445364e-01  7.62758643e-01\n",
            "   1.44795564e+00]\n",
            " [ 1.55888037e+00 -5.25060772e-02 -8.19166497e-01  7.62758643e-01\n",
            "   9.22063763e-01]\n",
            " [ 1.58197489e+00  1.15917263e+00  3.37848329e-01  1.21768427e+00\n",
            "   1.44795564e+00]\n",
            " [ 1.60506942e+00  1.03800476e+00  5.69251294e-01  1.10395287e+00\n",
            "   1.71090158e+00]\n",
            " [ 1.62816394e+00  1.03800476e+00 -1.24957601e-01  8.19624347e-01\n",
            "   1.44795564e+00]\n",
            " [ 1.65125846e+00  5.53333275e-01 -1.28197243e+00  7.05892939e-01\n",
            "   9.22063763e-01]\n",
            " [ 1.67435299e+00  7.95669016e-01 -1.24957601e-01  8.19624347e-01\n",
            "   1.05353673e+00]\n",
            " [ 1.69744751e+00  4.32165405e-01  8.00654259e-01  9.33355755e-01\n",
            "   1.44795564e+00]\n",
            " [ 1.72054204e+00  6.86617933e-02 -1.24957601e-01  7.62758643e-01\n",
            "   7.90590793e-01]]\n"
          ]
        }
      ]
    },
    {
      "cell_type": "code",
      "source": [
        "X = standardized_data\n",
        "Y = iris_dataset['Species']\n",
        "print(X)\n",
        "print(Y)"
      ],
      "metadata": {
        "colab": {
          "base_uri": "https://localhost:8080/"
        },
        "id": "AhH0dTfoteoX",
        "outputId": "831b189b-d4b0-485e-e71d-f86053654607"
      },
      "execution_count": 25,
      "outputs": [
        {
          "output_type": "stream",
          "name": "stdout",
          "text": [
            "[[-1.72054204e+00 -9.00681170e-01  1.03205722e+00 -1.34127240e+00\n",
            "  -1.31297673e+00]\n",
            " [-1.69744751e+00 -1.14301691e+00 -1.24957601e-01 -1.34127240e+00\n",
            "  -1.31297673e+00]\n",
            " [-1.67435299e+00 -1.38535265e+00  3.37848329e-01 -1.39813811e+00\n",
            "  -1.31297673e+00]\n",
            " [-1.65125846e+00 -1.50652052e+00  1.06445364e-01 -1.28440670e+00\n",
            "  -1.31297673e+00]\n",
            " [-1.62816394e+00 -1.02184904e+00  1.26346019e+00 -1.34127240e+00\n",
            "  -1.31297673e+00]\n",
            " [-1.60506942e+00 -5.37177559e-01  1.95766909e+00 -1.17067529e+00\n",
            "  -1.05003079e+00]\n",
            " [-1.58197489e+00 -1.50652052e+00  8.00654259e-01 -1.34127240e+00\n",
            "  -1.18150376e+00]\n",
            " [-1.55888037e+00 -1.02184904e+00  8.00654259e-01 -1.28440670e+00\n",
            "  -1.31297673e+00]\n",
            " [-1.53578584e+00 -1.74885626e+00 -3.56360566e-01 -1.34127240e+00\n",
            "  -1.31297673e+00]\n",
            " [-1.51269132e+00 -1.14301691e+00  1.06445364e-01 -1.28440670e+00\n",
            "  -1.44444970e+00]\n",
            " [-1.48959680e+00 -5.37177559e-01  1.49486315e+00 -1.28440670e+00\n",
            "  -1.31297673e+00]\n",
            " [-1.46650227e+00 -1.26418478e+00  8.00654259e-01 -1.22754100e+00\n",
            "  -1.31297673e+00]\n",
            " [-1.44340775e+00 -1.26418478e+00 -1.24957601e-01 -1.34127240e+00\n",
            "  -1.44444970e+00]\n",
            " [-1.42031323e+00 -1.87002413e+00 -1.24957601e-01 -1.51186952e+00\n",
            "  -1.44444970e+00]\n",
            " [-1.39721870e+00 -5.25060772e-02  2.18907205e+00 -1.45500381e+00\n",
            "  -1.31297673e+00]\n",
            " [-1.37412418e+00 -1.73673948e-01  3.11468391e+00 -1.28440670e+00\n",
            "  -1.05003079e+00]\n",
            " [-1.35102965e+00 -5.37177559e-01  1.95766909e+00 -1.39813811e+00\n",
            "  -1.05003079e+00]\n",
            " [-1.32793513e+00 -9.00681170e-01  1.03205722e+00 -1.34127240e+00\n",
            "  -1.18150376e+00]\n",
            " [-1.30484061e+00 -1.73673948e-01  1.72626612e+00 -1.17067529e+00\n",
            "  -1.18150376e+00]\n",
            " [-1.28174608e+00 -9.00681170e-01  1.72626612e+00 -1.28440670e+00\n",
            "  -1.18150376e+00]\n",
            " [-1.25865156e+00 -5.37177559e-01  8.00654259e-01 -1.17067529e+00\n",
            "  -1.31297673e+00]\n",
            " [-1.23555703e+00 -9.00681170e-01  1.49486315e+00 -1.28440670e+00\n",
            "  -1.05003079e+00]\n",
            " [-1.21246251e+00 -1.50652052e+00  1.26346019e+00 -1.56873522e+00\n",
            "  -1.31297673e+00]\n",
            " [-1.18936799e+00 -9.00681170e-01  5.69251294e-01 -1.17067529e+00\n",
            "  -9.18557817e-01]\n",
            " [-1.16627346e+00 -1.26418478e+00  8.00654259e-01 -1.05694388e+00\n",
            "  -1.31297673e+00]\n",
            " [-1.14317894e+00 -1.02184904e+00 -1.24957601e-01 -1.22754100e+00\n",
            "  -1.31297673e+00]\n",
            " [-1.12008441e+00 -1.02184904e+00  8.00654259e-01 -1.22754100e+00\n",
            "  -1.05003079e+00]\n",
            " [-1.09698989e+00 -7.79513300e-01  1.03205722e+00 -1.28440670e+00\n",
            "  -1.31297673e+00]\n",
            " [-1.07389537e+00 -7.79513300e-01  8.00654259e-01 -1.34127240e+00\n",
            "  -1.31297673e+00]\n",
            " [-1.05080084e+00 -1.38535265e+00  3.37848329e-01 -1.22754100e+00\n",
            "  -1.31297673e+00]\n",
            " [-1.02770632e+00 -1.26418478e+00  1.06445364e-01 -1.22754100e+00\n",
            "  -1.31297673e+00]\n",
            " [-1.00461179e+00 -5.37177559e-01  8.00654259e-01 -1.28440670e+00\n",
            "  -1.05003079e+00]\n",
            " [-9.81517269e-01 -7.79513300e-01  2.42047502e+00 -1.28440670e+00\n",
            "  -1.44444970e+00]\n",
            " [-9.58422745e-01 -4.16009689e-01  2.65187798e+00 -1.34127240e+00\n",
            "  -1.31297673e+00]\n",
            " [-9.35328221e-01 -1.14301691e+00  1.06445364e-01 -1.28440670e+00\n",
            "  -1.44444970e+00]\n",
            " [-9.12233697e-01 -1.02184904e+00  3.37848329e-01 -1.45500381e+00\n",
            "  -1.31297673e+00]\n",
            " [-8.89139173e-01 -4.16009689e-01  1.03205722e+00 -1.39813811e+00\n",
            "  -1.31297673e+00]\n",
            " [-8.66044649e-01 -1.14301691e+00  1.06445364e-01 -1.28440670e+00\n",
            "  -1.44444970e+00]\n",
            " [-8.42950125e-01 -1.74885626e+00 -1.24957601e-01 -1.39813811e+00\n",
            "  -1.31297673e+00]\n",
            " [-8.19855601e-01 -9.00681170e-01  8.00654259e-01 -1.28440670e+00\n",
            "  -1.31297673e+00]\n",
            " [-7.96761077e-01 -1.02184904e+00  1.03205722e+00 -1.39813811e+00\n",
            "  -1.18150376e+00]\n",
            " [-7.73666553e-01 -1.62768839e+00 -1.74477836e+00 -1.39813811e+00\n",
            "  -1.18150376e+00]\n",
            " [-7.50572030e-01 -1.74885626e+00  3.37848329e-01 -1.39813811e+00\n",
            "  -1.31297673e+00]\n",
            " [-7.27477506e-01 -1.02184904e+00  1.03205722e+00 -1.22754100e+00\n",
            "  -7.87084847e-01]\n",
            " [-7.04382982e-01 -9.00681170e-01  1.72626612e+00 -1.05694388e+00\n",
            "  -1.05003079e+00]\n",
            " [-6.81288458e-01 -1.26418478e+00 -1.24957601e-01 -1.34127240e+00\n",
            "  -1.18150376e+00]\n",
            " [-6.58193934e-01 -9.00681170e-01  1.72626612e+00 -1.22754100e+00\n",
            "  -1.31297673e+00]\n",
            " [-6.35099410e-01 -1.50652052e+00  3.37848329e-01 -1.34127240e+00\n",
            "  -1.31297673e+00]\n",
            " [-6.12004886e-01 -6.58345429e-01  1.49486315e+00 -1.28440670e+00\n",
            "  -1.31297673e+00]\n",
            " [-5.88910362e-01 -1.02184904e+00  5.69251294e-01 -1.34127240e+00\n",
            "  -1.31297673e+00]\n",
            " [-5.65815838e-01  1.40150837e+00  3.37848329e-01  5.35295827e-01\n",
            "   2.64698913e-01]\n",
            " [-5.42721314e-01  6.74501145e-01  3.37848329e-01  4.21564419e-01\n",
            "   3.96171883e-01]\n",
            " [-5.19626790e-01  1.28034050e+00  1.06445364e-01  6.49027235e-01\n",
            "   3.96171883e-01]\n",
            " [-4.96532266e-01 -4.16009689e-01 -1.74477836e+00  1.37235899e-01\n",
            "   1.33225943e-01]\n",
            " [-4.73437742e-01  7.95669016e-01 -5.87763531e-01  4.78430123e-01\n",
            "   3.96171883e-01]\n",
            " [-4.50343218e-01 -1.73673948e-01 -5.87763531e-01  4.21564419e-01\n",
            "   1.33225943e-01]\n",
            " [-4.27248694e-01  5.53333275e-01  5.69251294e-01  5.35295827e-01\n",
            "   5.27644853e-01]\n",
            " [-4.04154170e-01 -1.14301691e+00 -1.51337539e+00 -2.60824029e-01\n",
            "  -2.61192967e-01]\n",
            " [-3.81059646e-01  9.16836886e-01 -3.56360566e-01  4.78430123e-01\n",
            "   1.33225943e-01]\n",
            " [-3.57965122e-01 -7.79513300e-01 -8.19166497e-01  8.03701950e-02\n",
            "   2.64698913e-01]\n",
            " [-3.34870598e-01 -1.02184904e+00 -2.43898725e+00 -1.47092621e-01\n",
            "  -2.61192967e-01]\n",
            " [-3.11776074e-01  6.86617933e-02 -1.24957601e-01  2.50967307e-01\n",
            "   3.96171883e-01]\n",
            " [-2.88681550e-01  1.89829664e-01 -1.97618132e+00  1.37235899e-01\n",
            "  -2.61192967e-01]\n",
            " [-2.65587026e-01  3.10997534e-01 -3.56360566e-01  5.35295827e-01\n",
            "   2.64698913e-01]\n",
            " [-2.42492502e-01 -2.94841818e-01 -3.56360566e-01 -9.02269170e-02\n",
            "   1.33225943e-01]\n",
            " [-2.19397978e-01  1.03800476e+00  1.06445364e-01  3.64698715e-01\n",
            "   2.64698913e-01]\n",
            " [-1.96303454e-01 -2.94841818e-01 -1.24957601e-01  4.21564419e-01\n",
            "   3.96171883e-01]\n",
            " [-1.73208930e-01 -5.25060772e-02 -8.19166497e-01  1.94101603e-01\n",
            "  -2.61192967e-01]\n",
            " [-1.50114406e-01  4.32165405e-01 -1.97618132e+00  4.21564419e-01\n",
            "   3.96171883e-01]\n",
            " [-1.27019882e-01 -2.94841818e-01 -1.28197243e+00  8.03701950e-02\n",
            "  -1.29719997e-01]\n",
            " [-1.03925358e-01  6.86617933e-02  3.37848329e-01  5.92161531e-01\n",
            "   7.90590793e-01]\n",
            " [-8.08308339e-02  3.10997534e-01 -5.87763531e-01  1.37235899e-01\n",
            "   1.33225943e-01]\n",
            " [-5.77363100e-02  5.53333275e-01 -1.28197243e+00  6.49027235e-01\n",
            "   3.96171883e-01]\n",
            " [-3.46417860e-02  3.10997534e-01 -5.87763531e-01  5.35295827e-01\n",
            "   1.75297293e-03]\n",
            " [-1.15472620e-02  6.74501145e-01 -3.56360566e-01  3.07833011e-01\n",
            "   1.33225943e-01]\n",
            " [ 1.15472620e-02  9.16836886e-01 -1.24957601e-01  3.64698715e-01\n",
            "   2.64698913e-01]\n",
            " [ 3.46417860e-02  1.15917263e+00 -5.87763531e-01  5.92161531e-01\n",
            "   2.64698913e-01]\n",
            " [ 5.77363100e-02  1.03800476e+00 -1.24957601e-01  7.05892939e-01\n",
            "   6.59117823e-01]\n",
            " [ 8.08308339e-02  1.89829664e-01 -3.56360566e-01  4.21564419e-01\n",
            "   3.96171883e-01]\n",
            " [ 1.03925358e-01 -1.73673948e-01 -1.05056946e+00 -1.47092621e-01\n",
            "  -2.61192967e-01]\n",
            " [ 1.27019882e-01 -4.16009689e-01 -1.51337539e+00  2.35044910e-02\n",
            "  -1.29719997e-01]\n",
            " [ 1.50114406e-01 -4.16009689e-01 -1.51337539e+00 -3.33612130e-02\n",
            "  -2.61192967e-01]\n",
            " [ 1.73208930e-01 -5.25060772e-02 -8.19166497e-01  8.03701950e-02\n",
            "   1.75297293e-03]\n",
            " [ 1.96303454e-01  1.89829664e-01 -8.19166497e-01  7.62758643e-01\n",
            "   5.27644853e-01]\n",
            " [ 2.19397978e-01 -5.37177559e-01 -1.24957601e-01  4.21564419e-01\n",
            "   3.96171883e-01]\n",
            " [ 2.42492502e-01  1.89829664e-01  8.00654259e-01  4.21564419e-01\n",
            "   5.27644853e-01]\n",
            " [ 2.65587026e-01  1.03800476e+00  1.06445364e-01  5.35295827e-01\n",
            "   3.96171883e-01]\n",
            " [ 2.88681550e-01  5.53333275e-01 -1.74477836e+00  3.64698715e-01\n",
            "   1.33225943e-01]\n",
            " [ 3.11776074e-01 -2.94841818e-01 -1.24957601e-01  1.94101603e-01\n",
            "   1.33225943e-01]\n",
            " [ 3.34870598e-01 -4.16009689e-01 -1.28197243e+00  1.37235899e-01\n",
            "   1.33225943e-01]\n",
            " [ 3.57965122e-01 -4.16009689e-01 -1.05056946e+00  3.64698715e-01\n",
            "   1.75297293e-03]\n",
            " [ 3.81059646e-01  3.10997534e-01 -1.24957601e-01  4.78430123e-01\n",
            "   2.64698913e-01]\n",
            " [ 4.04154170e-01 -5.25060772e-02 -1.05056946e+00  1.37235899e-01\n",
            "   1.75297293e-03]\n",
            " [ 4.27248694e-01 -1.02184904e+00 -1.74477836e+00 -2.60824029e-01\n",
            "  -2.61192967e-01]\n",
            " [ 4.50343218e-01 -2.94841818e-01 -8.19166497e-01  2.50967307e-01\n",
            "   1.33225943e-01]\n",
            " [ 4.73437742e-01 -1.73673948e-01 -1.24957601e-01  2.50967307e-01\n",
            "   1.75297293e-03]\n",
            " [ 4.96532266e-01 -1.73673948e-01 -3.56360566e-01  2.50967307e-01\n",
            "   1.33225943e-01]\n",
            " [ 5.19626790e-01  4.32165405e-01 -3.56360566e-01  3.07833011e-01\n",
            "   1.33225943e-01]\n",
            " [ 5.42721314e-01 -9.00681170e-01 -1.28197243e+00 -4.31421141e-01\n",
            "  -1.29719997e-01]\n",
            " [ 5.65815838e-01 -1.73673948e-01 -5.87763531e-01  1.94101603e-01\n",
            "   1.33225943e-01]\n",
            " [ 5.88910362e-01  5.53333275e-01  5.69251294e-01  1.27454998e+00\n",
            "   1.71090158e+00]\n",
            " [ 6.12004886e-01 -5.25060772e-02 -8.19166497e-01  7.62758643e-01\n",
            "   9.22063763e-01]\n",
            " [ 6.35099410e-01  1.52267624e+00 -1.24957601e-01  1.21768427e+00\n",
            "   1.18500970e+00]\n",
            " [ 6.58193934e-01  5.53333275e-01 -3.56360566e-01  1.04708716e+00\n",
            "   7.90590793e-01]\n",
            " [ 6.81288458e-01  7.95669016e-01 -1.24957601e-01  1.16081857e+00\n",
            "   1.31648267e+00]\n",
            " [ 7.04382982e-01  2.12851559e+00 -1.24957601e-01  1.61574420e+00\n",
            "   1.18500970e+00]\n",
            " [ 7.27477506e-01 -1.14301691e+00 -1.28197243e+00  4.21564419e-01\n",
            "   6.59117823e-01]\n",
            " [ 7.50572030e-01  1.76501198e+00 -3.56360566e-01  1.44514709e+00\n",
            "   7.90590793e-01]\n",
            " [ 7.73666553e-01  1.03800476e+00 -1.28197243e+00  1.16081857e+00\n",
            "   7.90590793e-01]\n",
            " [ 7.96761077e-01  1.64384411e+00  1.26346019e+00  1.33141568e+00\n",
            "   1.71090158e+00]\n",
            " [ 8.19855601e-01  7.95669016e-01  3.37848329e-01  7.62758643e-01\n",
            "   1.05353673e+00]\n",
            " [ 8.42950125e-01  6.74501145e-01 -8.19166497e-01  8.76490051e-01\n",
            "   9.22063763e-01]\n",
            " [ 8.66044649e-01  1.15917263e+00 -1.24957601e-01  9.90221459e-01\n",
            "   1.18500970e+00]\n",
            " [ 8.89139173e-01 -1.73673948e-01 -1.28197243e+00  7.05892939e-01\n",
            "   1.05353673e+00]\n",
            " [ 9.12233697e-01 -5.25060772e-02 -5.87763531e-01  7.62758643e-01\n",
            "   1.57942861e+00]\n",
            " [ 9.35328221e-01  6.74501145e-01  3.37848329e-01  8.76490051e-01\n",
            "   1.44795564e+00]\n",
            " [ 9.58422745e-01  7.95669016e-01 -1.24957601e-01  9.90221459e-01\n",
            "   7.90590793e-01]\n",
            " [ 9.81517269e-01  2.24968346e+00  1.72626612e+00  1.67260991e+00\n",
            "   1.31648267e+00]\n",
            " [ 1.00461179e+00  2.24968346e+00 -1.05056946e+00  1.78634131e+00\n",
            "   1.44795564e+00]\n",
            " [ 1.02770632e+00  1.89829664e-01 -1.97618132e+00  7.05892939e-01\n",
            "   3.96171883e-01]\n",
            " [ 1.05080084e+00  1.28034050e+00  3.37848329e-01  1.10395287e+00\n",
            "   1.44795564e+00]\n",
            " [ 1.07389537e+00 -2.94841818e-01 -5.87763531e-01  6.49027235e-01\n",
            "   1.05353673e+00]\n",
            " [ 1.09698989e+00  2.24968346e+00 -5.87763531e-01  1.67260991e+00\n",
            "   1.05353673e+00]\n",
            " [ 1.12008441e+00  5.53333275e-01 -8.19166497e-01  6.49027235e-01\n",
            "   7.90590793e-01]\n",
            " [ 1.14317894e+00  1.03800476e+00  5.69251294e-01  1.10395287e+00\n",
            "   1.18500970e+00]\n",
            " [ 1.16627346e+00  1.64384411e+00  3.37848329e-01  1.27454998e+00\n",
            "   7.90590793e-01]\n",
            " [ 1.18936799e+00  4.32165405e-01 -5.87763531e-01  5.92161531e-01\n",
            "   7.90590793e-01]\n",
            " [ 1.21246251e+00  3.10997534e-01 -1.24957601e-01  6.49027235e-01\n",
            "   7.90590793e-01]\n",
            " [ 1.23555703e+00  6.74501145e-01 -5.87763531e-01  1.04708716e+00\n",
            "   1.18500970e+00]\n",
            " [ 1.25865156e+00  1.64384411e+00 -1.24957601e-01  1.16081857e+00\n",
            "   5.27644853e-01]\n",
            " [ 1.28174608e+00  1.88617985e+00 -5.87763531e-01  1.33141568e+00\n",
            "   9.22063763e-01]\n",
            " [ 1.30484061e+00  2.49201920e+00  1.72626612e+00  1.50201279e+00\n",
            "   1.05353673e+00]\n",
            " [ 1.32793513e+00  6.74501145e-01 -5.87763531e-01  1.04708716e+00\n",
            "   1.31648267e+00]\n",
            " [ 1.35102965e+00  5.53333275e-01 -5.87763531e-01  7.62758643e-01\n",
            "   3.96171883e-01]\n",
            " [ 1.37412418e+00  3.10997534e-01 -1.05056946e+00  1.04708716e+00\n",
            "   2.64698913e-01]\n",
            " [ 1.39721870e+00  2.24968346e+00 -1.24957601e-01  1.33141568e+00\n",
            "   1.44795564e+00]\n",
            " [ 1.42031323e+00  5.53333275e-01  8.00654259e-01  1.04708716e+00\n",
            "   1.57942861e+00]\n",
            " [ 1.44340775e+00  6.74501145e-01  1.06445364e-01  9.90221459e-01\n",
            "   7.90590793e-01]\n",
            " [ 1.46650227e+00  1.89829664e-01 -1.24957601e-01  5.92161531e-01\n",
            "   7.90590793e-01]\n",
            " [ 1.48959680e+00  1.28034050e+00  1.06445364e-01  9.33355755e-01\n",
            "   1.18500970e+00]\n",
            " [ 1.51269132e+00  1.03800476e+00  1.06445364e-01  1.04708716e+00\n",
            "   1.57942861e+00]\n",
            " [ 1.53578584e+00  1.28034050e+00  1.06445364e-01  7.62758643e-01\n",
            "   1.44795564e+00]\n",
            " [ 1.55888037e+00 -5.25060772e-02 -8.19166497e-01  7.62758643e-01\n",
            "   9.22063763e-01]\n",
            " [ 1.58197489e+00  1.15917263e+00  3.37848329e-01  1.21768427e+00\n",
            "   1.44795564e+00]\n",
            " [ 1.60506942e+00  1.03800476e+00  5.69251294e-01  1.10395287e+00\n",
            "   1.71090158e+00]\n",
            " [ 1.62816394e+00  1.03800476e+00 -1.24957601e-01  8.19624347e-01\n",
            "   1.44795564e+00]\n",
            " [ 1.65125846e+00  5.53333275e-01 -1.28197243e+00  7.05892939e-01\n",
            "   9.22063763e-01]\n",
            " [ 1.67435299e+00  7.95669016e-01 -1.24957601e-01  8.19624347e-01\n",
            "   1.05353673e+00]\n",
            " [ 1.69744751e+00  4.32165405e-01  8.00654259e-01  9.33355755e-01\n",
            "   1.44795564e+00]\n",
            " [ 1.72054204e+00  6.86617933e-02 -1.24957601e-01  7.62758643e-01\n",
            "   7.90590793e-01]]\n",
            "0         Iris-setosa\n",
            "1         Iris-setosa\n",
            "2         Iris-setosa\n",
            "3         Iris-setosa\n",
            "4         Iris-setosa\n",
            "            ...      \n",
            "145    Iris-virginica\n",
            "146    Iris-virginica\n",
            "147    Iris-virginica\n",
            "148    Iris-virginica\n",
            "149    Iris-virginica\n",
            "Name: Species, Length: 150, dtype: object\n"
          ]
        }
      ]
    },
    {
      "cell_type": "markdown",
      "source": [
        "TEST TRAIN SPLIT"
      ],
      "metadata": {
        "id": "Y-K5cpo5tkxp"
      }
    },
    {
      "cell_type": "code",
      "source": [
        "X_train, X_test, Y_train, Y_test = train_test_split(X,Y, test_size = 0.2, stratify=Y, random_state=15)\n",
        "print(X.shape, X_train.shape, X_test.shape)"
      ],
      "metadata": {
        "colab": {
          "base_uri": "https://localhost:8080/"
        },
        "id": "H-YYuUiVtpOT",
        "outputId": "9998276b-9296-4073-e111-b14485e7cd94"
      },
      "execution_count": 26,
      "outputs": [
        {
          "output_type": "stream",
          "name": "stdout",
          "text": [
            "(150, 5) (120, 5) (30, 5)\n"
          ]
        }
      ]
    },
    {
      "cell_type": "code",
      "source": [
        "classifier = svm.SVC(kernel = 'linear')\n",
        "#training the support vector machine classifier\n",
        "classifier.fit(X_train, Y_train)"
      ],
      "metadata": {
        "colab": {
          "base_uri": "https://localhost:8080/"
        },
        "id": "Cs5vusAMtsIV",
        "outputId": "6a52d9be-328d-49eb-d36a-57d769061d5a"
      },
      "execution_count": 27,
      "outputs": [
        {
          "output_type": "execute_result",
          "data": {
            "text/plain": [
              "SVC(kernel='linear')"
            ]
          },
          "metadata": {},
          "execution_count": 27
        }
      ]
    },
    {
      "cell_type": "markdown",
      "source": [
        "MODEL EVALUATION\n",
        "\n",
        "Accuracy Score"
      ],
      "metadata": {
        "id": "MHcI8hZEtu89"
      }
    },
    {
      "cell_type": "code",
      "source": [
        "#accuracy score on the training data\n",
        "X_train_predicition = classifier.predict(X_train)\n",
        "training_data_accuracy = accuracy_score(X_train_predicition, Y_train)\n"
      ],
      "metadata": {
        "id": "bBh2J7sEt1lc"
      },
      "execution_count": 28,
      "outputs": []
    },
    {
      "cell_type": "code",
      "source": [
        "print('Accuracy score of the training data:',training_data_accuracy)"
      ],
      "metadata": {
        "colab": {
          "base_uri": "https://localhost:8080/"
        },
        "id": "Tca0d_4ot41B",
        "outputId": "ae64d06c-c9fa-47a9-e9bd-91a1dfd35bfe"
      },
      "execution_count": 29,
      "outputs": [
        {
          "output_type": "stream",
          "name": "stdout",
          "text": [
            "Accuracy score of the training data: 1.0\n"
          ]
        }
      ]
    },
    {
      "cell_type": "markdown",
      "source": [
        "MAKE A PREDICTIVE SYSTEM"
      ],
      "metadata": {
        "id": "dpnVsxRot-_P"
      }
    },
    {
      "cell_type": "code",
      "source": [
        "input_data = (1,5.1,3.5,1.4,0.2)\n",
        "#changing the input_data to numpy array\n",
        "input_data_as_numpy_array = np.asarray(input_data)\n",
        "#reshape the array as we are predicting for one instance\n",
        "input_data_reshaped = input_data_as_numpy_array.reshape(1,-1)\n",
        "#standardize the input data\n",
        "std_data = scaler.transform(input_data_reshaped)\n",
        "print(std_data)\n",
        "prediction = classifier.predict(std_data)\n",
        "print(prediction)\n",
        "if (prediction == \"Iris-setosa\"):\n",
        " print('Iris-setosa')\n",
        "elif(prediction == \"Iris-versicolor\"):\n",
        " print('Iris-versicolor')\n",
        "else:\n",
        "  print('Iris-virginica')"
      ],
      "metadata": {
        "colab": {
          "base_uri": "https://localhost:8080/"
        },
        "id": "tcGBxITUt7dJ",
        "outputId": "87fe1d82-034e-4bb6-d4d8-a50e7e0ceb44"
      },
      "execution_count": 30,
      "outputs": [
        {
          "output_type": "stream",
          "name": "stdout",
          "text": [
            "[[-1.72054204 -0.90068117  1.03205722 -1.3412724  -1.31297673]]\n",
            "['Iris-setosa']\n",
            "Iris-setosa\n"
          ]
        },
        {
          "output_type": "stream",
          "name": "stderr",
          "text": [
            "/usr/local/lib/python3.7/dist-packages/sklearn/base.py:451: UserWarning: X does not have valid feature names, but StandardScaler was fitted with feature names\n",
            "  \"X does not have valid feature names, but\"\n"
          ]
        }
      ]
    },
    {
      "cell_type": "code",
      "source": [
        "knn = KNeighborsClassifier(n_neighbors = 25, metric = 'minkowski')\n",
        "knn.fit(X_train,Y_train)"
      ],
      "metadata": {
        "colab": {
          "base_uri": "https://localhost:8080/"
        },
        "id": "HWDSionYuMk7",
        "outputId": "a11a313c-b7e6-4277-a2fc-ac7c7c16ca92"
      },
      "execution_count": 31,
      "outputs": [
        {
          "output_type": "execute_result",
          "data": {
            "text/plain": [
              "KNeighborsClassifier(n_neighbors=25)"
            ]
          },
          "metadata": {},
          "execution_count": 31
        }
      ]
    },
    {
      "cell_type": "code",
      "source": [
        "knn_Y_pred = knn.predict(X_test)"
      ],
      "metadata": {
        "id": "QsBid_U8uOVt"
      },
      "execution_count": 32,
      "outputs": []
    },
    {
      "cell_type": "code",
      "source": [
        "knn_Y_pred"
      ],
      "metadata": {
        "colab": {
          "base_uri": "https://localhost:8080/"
        },
        "id": "QYiT32GEuQ-H",
        "outputId": "6d9f4d20-bfd7-46ee-f787-2a10104a6c55"
      },
      "execution_count": 33,
      "outputs": [
        {
          "output_type": "execute_result",
          "data": {
            "text/plain": [
              "array(['Iris-setosa', 'Iris-versicolor', 'Iris-setosa', 'Iris-virginica',\n",
              "       'Iris-versicolor', 'Iris-versicolor', 'Iris-versicolor',\n",
              "       'Iris-versicolor', 'Iris-setosa', 'Iris-virginica',\n",
              "       'Iris-versicolor', 'Iris-versicolor', 'Iris-virginica',\n",
              "       'Iris-setosa', 'Iris-virginica', 'Iris-versicolor', 'Iris-setosa',\n",
              "       'Iris-virginica', 'Iris-setosa', 'Iris-virginica',\n",
              "       'Iris-virginica', 'Iris-versicolor', 'Iris-setosa',\n",
              "       'Iris-virginica', 'Iris-setosa', 'Iris-versicolor',\n",
              "       'Iris-versicolor', 'Iris-setosa', 'Iris-setosa', 'Iris-virginica'],\n",
              "      dtype=object)"
            ]
          },
          "metadata": {},
          "execution_count": 33
        }
      ]
    },
    {
      "cell_type": "markdown",
      "source": [
        "CONFUSION MATRIX"
      ],
      "metadata": {
        "id": "eyvpmApuuVGe"
      }
    },
    {
      "cell_type": "code",
      "source": [
        "knn_cm = confusion_matrix(Y_test,knn_Y_pred)\n",
        "sns.heatmap(knn_cm,annot = True)"
      ],
      "metadata": {
        "colab": {
          "base_uri": "https://localhost:8080/",
          "height": 286
        },
        "id": "cOUSyfspuThG",
        "outputId": "bd1dc180-945b-4a82-fda0-d98db26d2d3c"
      },
      "execution_count": 34,
      "outputs": [
        {
          "output_type": "execute_result",
          "data": {
            "text/plain": [
              "<matplotlib.axes._subplots.AxesSubplot at 0x7fb08bb088d0>"
            ]
          },
          "metadata": {},
          "execution_count": 34
        },
        {
          "output_type": "display_data",
          "data": {
            "text/plain": [
              "<Figure size 432x288 with 2 Axes>"
            ],
            "image/png": "[encoded data removed]"
          },
          "metadata": {
            "needs_background": "light"
          }
        }
      ]
    }
  ]
}